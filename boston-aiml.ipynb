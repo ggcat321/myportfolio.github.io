{
 "cells": [
  {
   "cell_type": "code",
   "execution_count": 1,
   "id": "8000233b",
   "metadata": {
    "execution": {
     "iopub.execute_input": "2022-12-05T13:17:05.285729Z",
     "iopub.status.busy": "2022-12-05T13:17:05.285192Z",
     "iopub.status.idle": "2022-12-05T13:17:06.462354Z",
     "shell.execute_reply": "2022-12-05T13:17:06.460936Z"
    },
    "id": "PE0gfXdwTSJo",
    "papermill": {
     "duration": 1.190655,
     "end_time": "2022-12-05T13:17:06.465416",
     "exception": false,
     "start_time": "2022-12-05T13:17:05.274761",
     "status": "completed"
    },
    "tags": []
   },
   "outputs": [],
   "source": [
    "import pandas as pd\n",
    "import numpy as np\n",
    "\n",
    "import matplotlib.pyplot as plt\n",
    "import seaborn as sns\n",
    "sns.set_theme(style = \"darkgrid\")\n",
    "\n",
    "import warnings\n",
    "warnings.filterwarnings(\"ignore\", category = Warning)\n",
    "\n",
    "from sklearn.datasets import load_boston\n",
    "boston = load_boston()"
   ]
  },
  {
   "cell_type": "markdown",
   "id": "f7fdf6c8",
   "metadata": {
    "id": "7xIAgA9DN7K9",
    "papermill": {
     "duration": 0.007011,
     "end_time": "2022-12-05T13:17:06.480219",
     "exception": false,
     "start_time": "2022-12-05T13:17:06.473208",
     "status": "completed"
    },
    "tags": []
   },
   "source": [
    "\n",
    "#Make sure the data is loaded correctly.\n"
   ]
  },
  {
   "cell_type": "code",
   "execution_count": 2,
   "id": "35a96d0a",
   "metadata": {
    "execution": {
     "iopub.execute_input": "2022-12-05T13:17:06.496473Z",
     "iopub.status.busy": "2022-12-05T13:17:06.496073Z",
     "iopub.status.idle": "2022-12-05T13:17:06.536981Z",
     "shell.execute_reply": "2022-12-05T13:17:06.535888Z"
    },
    "id": "NuVqQTmR5Vpi",
    "outputId": "41335591-07a7-48bc-c426-340720272261",
    "papermill": {
     "duration": 0.052314,
     "end_time": "2022-12-05T13:17:06.539704",
     "exception": false,
     "start_time": "2022-12-05T13:17:06.487390",
     "status": "completed"
    },
    "tags": []
   },
   "outputs": [
    {
     "data": {
      "text/html": [
       "<div>\n",
       "<style scoped>\n",
       "    .dataframe tbody tr th:only-of-type {\n",
       "        vertical-align: middle;\n",
       "    }\n",
       "\n",
       "    .dataframe tbody tr th {\n",
       "        vertical-align: top;\n",
       "    }\n",
       "\n",
       "    .dataframe thead th {\n",
       "        text-align: right;\n",
       "    }\n",
       "</style>\n",
       "<table border=\"1\" class=\"dataframe\">\n",
       "  <thead>\n",
       "    <tr style=\"text-align: right;\">\n",
       "      <th></th>\n",
       "      <th>CRIM</th>\n",
       "      <th>ZN</th>\n",
       "      <th>INDUS</th>\n",
       "      <th>CHAS</th>\n",
       "      <th>NOX</th>\n",
       "      <th>RM</th>\n",
       "      <th>AGE</th>\n",
       "      <th>DIS</th>\n",
       "      <th>RAD</th>\n",
       "      <th>TAX</th>\n",
       "      <th>PTRATIO</th>\n",
       "      <th>B</th>\n",
       "      <th>LSTAT</th>\n",
       "      <th>MEDV</th>\n",
       "    </tr>\n",
       "  </thead>\n",
       "  <tbody>\n",
       "    <tr>\n",
       "      <th>0</th>\n",
       "      <td>0.00632</td>\n",
       "      <td>18.0</td>\n",
       "      <td>2.31</td>\n",
       "      <td>0.0</td>\n",
       "      <td>0.538</td>\n",
       "      <td>6.575</td>\n",
       "      <td>65.2</td>\n",
       "      <td>4.0900</td>\n",
       "      <td>1.0</td>\n",
       "      <td>296.0</td>\n",
       "      <td>15.3</td>\n",
       "      <td>396.90</td>\n",
       "      <td>4.98</td>\n",
       "      <td>24.0</td>\n",
       "    </tr>\n",
       "    <tr>\n",
       "      <th>1</th>\n",
       "      <td>0.02731</td>\n",
       "      <td>0.0</td>\n",
       "      <td>7.07</td>\n",
       "      <td>0.0</td>\n",
       "      <td>0.469</td>\n",
       "      <td>6.421</td>\n",
       "      <td>78.9</td>\n",
       "      <td>4.9671</td>\n",
       "      <td>2.0</td>\n",
       "      <td>242.0</td>\n",
       "      <td>17.8</td>\n",
       "      <td>396.90</td>\n",
       "      <td>9.14</td>\n",
       "      <td>21.6</td>\n",
       "    </tr>\n",
       "    <tr>\n",
       "      <th>2</th>\n",
       "      <td>0.02729</td>\n",
       "      <td>0.0</td>\n",
       "      <td>7.07</td>\n",
       "      <td>0.0</td>\n",
       "      <td>0.469</td>\n",
       "      <td>7.185</td>\n",
       "      <td>61.1</td>\n",
       "      <td>4.9671</td>\n",
       "      <td>2.0</td>\n",
       "      <td>242.0</td>\n",
       "      <td>17.8</td>\n",
       "      <td>392.83</td>\n",
       "      <td>4.03</td>\n",
       "      <td>34.7</td>\n",
       "    </tr>\n",
       "    <tr>\n",
       "      <th>3</th>\n",
       "      <td>0.03237</td>\n",
       "      <td>0.0</td>\n",
       "      <td>2.18</td>\n",
       "      <td>0.0</td>\n",
       "      <td>0.458</td>\n",
       "      <td>6.998</td>\n",
       "      <td>45.8</td>\n",
       "      <td>6.0622</td>\n",
       "      <td>3.0</td>\n",
       "      <td>222.0</td>\n",
       "      <td>18.7</td>\n",
       "      <td>394.63</td>\n",
       "      <td>2.94</td>\n",
       "      <td>33.4</td>\n",
       "    </tr>\n",
       "    <tr>\n",
       "      <th>4</th>\n",
       "      <td>0.06905</td>\n",
       "      <td>0.0</td>\n",
       "      <td>2.18</td>\n",
       "      <td>0.0</td>\n",
       "      <td>0.458</td>\n",
       "      <td>7.147</td>\n",
       "      <td>54.2</td>\n",
       "      <td>6.0622</td>\n",
       "      <td>3.0</td>\n",
       "      <td>222.0</td>\n",
       "      <td>18.7</td>\n",
       "      <td>396.90</td>\n",
       "      <td>5.33</td>\n",
       "      <td>36.2</td>\n",
       "    </tr>\n",
       "  </tbody>\n",
       "</table>\n",
       "</div>"
      ],
      "text/plain": [
       "      CRIM    ZN  INDUS  CHAS    NOX     RM   AGE     DIS  RAD    TAX  \\\n",
       "0  0.00632  18.0   2.31   0.0  0.538  6.575  65.2  4.0900  1.0  296.0   \n",
       "1  0.02731   0.0   7.07   0.0  0.469  6.421  78.9  4.9671  2.0  242.0   \n",
       "2  0.02729   0.0   7.07   0.0  0.469  7.185  61.1  4.9671  2.0  242.0   \n",
       "3  0.03237   0.0   2.18   0.0  0.458  6.998  45.8  6.0622  3.0  222.0   \n",
       "4  0.06905   0.0   2.18   0.0  0.458  7.147  54.2  6.0622  3.0  222.0   \n",
       "\n",
       "   PTRATIO       B  LSTAT  MEDV  \n",
       "0     15.3  396.90   4.98  24.0  \n",
       "1     17.8  396.90   9.14  21.6  \n",
       "2     17.8  392.83   4.03  34.7  \n",
       "3     18.7  394.63   2.94  33.4  \n",
       "4     18.7  396.90   5.33  36.2  "
      ]
     },
     "execution_count": 2,
     "metadata": {},
     "output_type": "execute_result"
    }
   ],
   "source": [
    "data_url = \"http://lib.stat.cmu.edu/datasets/boston\"\n",
    "col_names = boston.feature_names\n",
    "df = pd.DataFrame(boston.data, columns = col_names)\n",
    "df['MEDV'] = boston.target\n",
    "\n",
    "# Make sure the data is loaded correctly.\n",
    "df.head()"
   ]
  },
  {
   "cell_type": "markdown",
   "id": "e2251d92",
   "metadata": {
    "id": "3oc6dKa6N-yI",
    "papermill": {
     "duration": 0.007372,
     "end_time": "2022-12-05T13:17:06.554692",
     "exception": false,
     "start_time": "2022-12-05T13:17:06.547320",
     "status": "completed"
    },
    "tags": []
   },
   "source": [
    "\n",
    "#1.The model possible for this house price prediction are \"Linear regression model\", \"Random forest\".\n",
    "\n",
    "#The output for this problem is expected to be a scalar (a constant)."
   ]
  },
  {
   "cell_type": "markdown",
   "id": "ebe167d4",
   "metadata": {
    "id": "FtzPnz_8OJiT",
    "papermill": {
     "duration": 0.006999,
     "end_time": "2022-12-05T13:17:06.569111",
     "exception": false,
     "start_time": "2022-12-05T13:17:06.562112",
     "status": "completed"
    },
    "tags": []
   },
   "source": [
    "# 2.Model Input / Output\n"
   ]
  },
  {
   "cell_type": "code",
   "execution_count": 3,
   "id": "b3ddee7c",
   "metadata": {
    "execution": {
     "iopub.execute_input": "2022-12-05T13:17:06.587166Z",
     "iopub.status.busy": "2022-12-05T13:17:06.586746Z",
     "iopub.status.idle": "2022-12-05T13:17:06.594223Z",
     "shell.execute_reply": "2022-12-05T13:17:06.593336Z"
    },
    "id": "jNjx59kBgikM",
    "papermill": {
     "duration": 0.01977,
     "end_time": "2022-12-05T13:17:06.596195",
     "exception": false,
     "start_time": "2022-12-05T13:17:06.576425",
     "status": "completed"
    },
    "tags": []
   },
   "outputs": [],
   "source": [
    "x = df.iloc[:,:-1]\n",
    "y = df[\"MEDV\"]\n",
    "\n",
    "# According to the defenition in this dataset, it is suitable to define \"MEDV\" as output and others variables as input features."
   ]
  },
  {
   "cell_type": "markdown",
   "id": "3acc9df9",
   "metadata": {
    "id": "_g4p1wEWON8d",
    "papermill": {
     "duration": 0.007053,
     "end_time": "2022-12-05T13:17:06.610751",
     "exception": false,
     "start_time": "2022-12-05T13:17:06.603698",
     "status": "completed"
    },
    "tags": []
   },
   "source": [
    "# 3.EDA"
   ]
  },
  {
   "cell_type": "code",
   "execution_count": 4,
   "id": "765b687e",
   "metadata": {
    "execution": {
     "iopub.execute_input": "2022-12-05T13:17:06.627756Z",
     "iopub.status.busy": "2022-12-05T13:17:06.626437Z",
     "iopub.status.idle": "2022-12-05T13:17:08.405953Z",
     "shell.execute_reply": "2022-12-05T13:17:08.404441Z"
    },
    "id": "9kNpbfLA8E2O",
    "outputId": "3dd63723-6638-4d66-8dda-90a5ffbf841e",
    "papermill": {
     "duration": 1.790834,
     "end_time": "2022-12-05T13:17:08.408765",
     "exception": false,
     "start_time": "2022-12-05T13:17:06.617931",
     "status": "completed"
    },
    "tags": []
   },
   "outputs": [
    {
     "name": "stdout",
     "output_type": "stream",
     "text": [
      "             CRIM          ZN       INDUS        CHAS         NOX          RM  \\\n",
      "count  506.000000  506.000000  506.000000  506.000000  506.000000  506.000000   \n",
      "mean     3.613524   11.363636   11.136779    0.069170    0.554695    6.284634   \n",
      "std      8.601545   23.322453    6.860353    0.253994    0.115878    0.702617   \n",
      "min      0.006320    0.000000    0.460000    0.000000    0.385000    3.561000   \n",
      "25%      0.082045    0.000000    5.190000    0.000000    0.449000    5.885500   \n",
      "50%      0.256510    0.000000    9.690000    0.000000    0.538000    6.208500   \n",
      "75%      3.677083   12.500000   18.100000    0.000000    0.624000    6.623500   \n",
      "max     88.976200  100.000000   27.740000    1.000000    0.871000    8.780000   \n",
      "\n",
      "              AGE         DIS         RAD         TAX     PTRATIO           B  \\\n",
      "count  506.000000  506.000000  506.000000  506.000000  506.000000  506.000000   \n",
      "mean    68.574901    3.795043    9.549407  408.237154   18.455534  356.674032   \n",
      "std     28.148861    2.105710    8.707259  168.537116    2.164946   91.294864   \n",
      "min      2.900000    1.129600    1.000000  187.000000   12.600000    0.320000   \n",
      "25%     45.025000    2.100175    4.000000  279.000000   17.400000  375.377500   \n",
      "50%     77.500000    3.207450    5.000000  330.000000   19.050000  391.440000   \n",
      "75%     94.075000    5.188425   24.000000  666.000000   20.200000  396.225000   \n",
      "max    100.000000   12.126500   24.000000  711.000000   22.000000  396.900000   \n",
      "\n",
      "            LSTAT        MEDV  \n",
      "count  506.000000  506.000000  \n",
      "mean    12.653063   22.532806  \n",
      "std      7.141062    9.197104  \n",
      "min      1.730000    5.000000  \n",
      "25%      6.950000   17.025000  \n",
      "50%     11.360000   21.200000  \n",
      "75%     16.955000   25.000000  \n",
      "max     37.970000   50.000000  \n"
     ]
    },
    {
     "data": {
      "image/png": "[encoded data removed]",
      "text/plain": [
       "<Figure size 864x864 with 14 Axes>"
      ]
     },
     "metadata": {},
     "output_type": "display_data"
    }
   ],
   "source": [
    "print(df.describe())\n",
    "fig, ax = plt.subplots(ncols = 7, nrows = 2,figsize = (12, 12))\n",
    "index = 0\n",
    "ax = ax.flatten()\n",
    "for k, v in df.items():\n",
    "  sns.boxplot(y = k, data = df, ax = ax[index])\n",
    "  index += 1\n",
    "\n",
    "plt.tight_layout(pad = 0.4, w_pad = 0.5, h_pad = 5.0)\n",
    "\n",
    "# According to the result of brief EDA, CHAS is a dummy, while the others are numerical feartures.\n",
    "# The variaties of the features are quite high; therefore, regularization is required."
   ]
  },
  {
   "cell_type": "code",
   "execution_count": 5,
   "id": "cbf1793e",
   "metadata": {
    "execution": {
     "iopub.execute_input": "2022-12-05T13:17:08.427875Z",
     "iopub.status.busy": "2022-12-05T13:17:08.427463Z",
     "iopub.status.idle": "2022-12-05T13:17:08.858415Z",
     "shell.execute_reply": "2022-12-05T13:17:08.857126Z"
    },
    "id": "Dr29Qf67-Hge",
    "outputId": "035a71d0-f1d6-44b1-f7d2-a41bb6c338a1",
    "papermill": {
     "duration": 0.443624,
     "end_time": "2022-12-05T13:17:08.861005",
     "exception": false,
     "start_time": "2022-12-05T13:17:08.417381",
     "status": "completed"
    },
    "tags": []
   },
   "outputs": [
    {
     "data": {
      "text/plain": [
       "<AxesSubplot:>"
      ]
     },
     "execution_count": 5,
     "metadata": {},
     "output_type": "execute_result"
    },
    {
     "data": {
      "image/png": "[encoded data removed]",
      "text/plain": [
       "<Figure size 432x288 with 2 Axes>"
      ]
     },
     "metadata": {},
     "output_type": "display_data"
    }
   ],
   "source": [
    "# Absolute correlation coefficients among all variables.\n",
    "corr = df.corr().abs()\n",
    "sns.heatmap(corr)\n",
    "# It seems that (besides dummy) some of the features are correlated to themselves."
   ]
  },
  {
   "cell_type": "code",
   "execution_count": 6,
   "id": "797b0ae9",
   "metadata": {
    "execution": {
     "iopub.execute_input": "2022-12-05T13:17:08.882693Z",
     "iopub.status.busy": "2022-12-05T13:17:08.882241Z",
     "iopub.status.idle": "2022-12-05T13:17:08.892507Z",
     "shell.execute_reply": "2022-12-05T13:17:08.891252Z"
    },
    "id": "JXgG6I7sCqW6",
    "outputId": "f655ec4c-b96b-4f05-fc7b-aa9ce0da22a9",
    "papermill": {
     "duration": 0.024025,
     "end_time": "2022-12-05T13:17:08.894808",
     "exception": false,
     "start_time": "2022-12-05T13:17:08.870783",
     "status": "completed"
    },
    "tags": []
   },
   "outputs": [
    {
     "data": {
      "text/plain": [
       "CRIM       0\n",
       "ZN         0\n",
       "INDUS      0\n",
       "CHAS       0\n",
       "NOX        0\n",
       "RM         0\n",
       "AGE        0\n",
       "DIS        0\n",
       "RAD        0\n",
       "TAX        0\n",
       "PTRATIO    0\n",
       "B          0\n",
       "LSTAT      0\n",
       "MEDV       0\n",
       "dtype: int64"
      ]
     },
     "execution_count": 6,
     "metadata": {},
     "output_type": "execute_result"
    }
   ],
   "source": [
    "# There's no missing value in the dataset.\n",
    "df.isnull().sum()"
   ]
  },
  {
   "cell_type": "code",
   "execution_count": 7,
   "id": "fa50ec76",
   "metadata": {
    "execution": {
     "iopub.execute_input": "2022-12-05T13:17:08.916231Z",
     "iopub.status.busy": "2022-12-05T13:17:08.915261Z",
     "iopub.status.idle": "2022-12-05T13:17:08.943271Z",
     "shell.execute_reply": "2022-12-05T13:17:08.942071Z"
    },
    "id": "ynvDSrIf8-E2",
    "outputId": "b77118fe-da81-4108-dd58-32a91be7a029",
    "papermill": {
     "duration": 0.041121,
     "end_time": "2022-12-05T13:17:08.945729",
     "exception": false,
     "start_time": "2022-12-05T13:17:08.904608",
     "status": "completed"
    },
    "tags": []
   },
   "outputs": [
    {
     "data": {
      "text/html": [
       "<div>\n",
       "<style scoped>\n",
       "    .dataframe tbody tr th:only-of-type {\n",
       "        vertical-align: middle;\n",
       "    }\n",
       "\n",
       "    .dataframe tbody tr th {\n",
       "        vertical-align: top;\n",
       "    }\n",
       "\n",
       "    .dataframe thead th {\n",
       "        text-align: right;\n",
       "    }\n",
       "</style>\n",
       "<table border=\"1\" class=\"dataframe\">\n",
       "  <thead>\n",
       "    <tr style=\"text-align: right;\">\n",
       "      <th></th>\n",
       "      <th>CRIM</th>\n",
       "      <th>ZN</th>\n",
       "      <th>INDUS</th>\n",
       "      <th>NOX</th>\n",
       "      <th>RM</th>\n",
       "      <th>AGE</th>\n",
       "      <th>RAD</th>\n",
       "      <th>TAX</th>\n",
       "      <th>PTRATIO</th>\n",
       "      <th>LSTAT</th>\n",
       "    </tr>\n",
       "  </thead>\n",
       "  <tbody>\n",
       "    <tr>\n",
       "      <th>0</th>\n",
       "      <td>0.00632</td>\n",
       "      <td>18.0</td>\n",
       "      <td>2.31</td>\n",
       "      <td>0.538</td>\n",
       "      <td>6.575</td>\n",
       "      <td>65.2</td>\n",
       "      <td>1.0</td>\n",
       "      <td>296.0</td>\n",
       "      <td>15.3</td>\n",
       "      <td>4.98</td>\n",
       "    </tr>\n",
       "    <tr>\n",
       "      <th>1</th>\n",
       "      <td>0.02731</td>\n",
       "      <td>0.0</td>\n",
       "      <td>7.07</td>\n",
       "      <td>0.469</td>\n",
       "      <td>6.421</td>\n",
       "      <td>78.9</td>\n",
       "      <td>2.0</td>\n",
       "      <td>242.0</td>\n",
       "      <td>17.8</td>\n",
       "      <td>9.14</td>\n",
       "    </tr>\n",
       "    <tr>\n",
       "      <th>2</th>\n",
       "      <td>0.02729</td>\n",
       "      <td>0.0</td>\n",
       "      <td>7.07</td>\n",
       "      <td>0.469</td>\n",
       "      <td>7.185</td>\n",
       "      <td>61.1</td>\n",
       "      <td>2.0</td>\n",
       "      <td>242.0</td>\n",
       "      <td>17.8</td>\n",
       "      <td>4.03</td>\n",
       "    </tr>\n",
       "    <tr>\n",
       "      <th>3</th>\n",
       "      <td>0.03237</td>\n",
       "      <td>0.0</td>\n",
       "      <td>2.18</td>\n",
       "      <td>0.458</td>\n",
       "      <td>6.998</td>\n",
       "      <td>45.8</td>\n",
       "      <td>3.0</td>\n",
       "      <td>222.0</td>\n",
       "      <td>18.7</td>\n",
       "      <td>2.94</td>\n",
       "    </tr>\n",
       "    <tr>\n",
       "      <th>4</th>\n",
       "      <td>0.06905</td>\n",
       "      <td>0.0</td>\n",
       "      <td>2.18</td>\n",
       "      <td>0.458</td>\n",
       "      <td>7.147</td>\n",
       "      <td>54.2</td>\n",
       "      <td>3.0</td>\n",
       "      <td>222.0</td>\n",
       "      <td>18.7</td>\n",
       "      <td>5.33</td>\n",
       "    </tr>\n",
       "  </tbody>\n",
       "</table>\n",
       "</div>"
      ],
      "text/plain": [
       "      CRIM    ZN  INDUS    NOX     RM   AGE  RAD    TAX  PTRATIO  LSTAT\n",
       "0  0.00632  18.0   2.31  0.538  6.575  65.2  1.0  296.0     15.3   4.98\n",
       "1  0.02731   0.0   7.07  0.469  6.421  78.9  2.0  242.0     17.8   9.14\n",
       "2  0.02729   0.0   7.07  0.469  7.185  61.1  2.0  242.0     17.8   4.03\n",
       "3  0.03237   0.0   2.18  0.458  6.998  45.8  3.0  222.0     18.7   2.94\n",
       "4  0.06905   0.0   2.18  0.458  7.147  54.2  3.0  222.0     18.7   5.33"
      ]
     },
     "execution_count": 7,
     "metadata": {},
     "output_type": "execute_result"
    }
   ],
   "source": [
    "# DataPreprocessing\n",
    "\n",
    "# Ignore correlation coefficients which are too low to the output(set at 0.35).\n",
    "cor_limit = 0.35\n",
    "corr_list = x[x.columns[:]].apply(lambda x : x.corr(y))\n",
    "cols = []\n",
    "for i in corr_list.index:\n",
    "  if (corr_list[i] >= cor_limit or corr_list[i] <= -cor_limit):\n",
    "    cols.append(i)\n",
    "\n",
    "# New data(x, input) with high correlation (HC) coefficients with Y.\n",
    "HC_x = df[cols]\n",
    "HC_x.head()"
   ]
  },
  {
   "cell_type": "code",
   "execution_count": 8,
   "id": "daf2ffab",
   "metadata": {
    "execution": {
     "iopub.execute_input": "2022-12-05T13:17:08.967259Z",
     "iopub.status.busy": "2022-12-05T13:17:08.966838Z",
     "iopub.status.idle": "2022-12-05T13:17:08.978700Z",
     "shell.execute_reply": "2022-12-05T13:17:08.977788Z"
    },
    "id": "d236cb09",
    "outputId": "23848971-e6c5-4820-e901-ef47a91c0ccd",
    "papermill": {
     "duration": 0.025476,
     "end_time": "2022-12-05T13:17:08.980769",
     "exception": false,
     "start_time": "2022-12-05T13:17:08.955293",
     "status": "completed"
    },
    "tags": []
   },
   "outputs": [
    {
     "data": {
      "text/plain": [
       "'\\n#decomposition(PCA if needed)\\nfrom sklearn.decomposition import PCA\\n\\npca = PCA(n_components = 2)\\nL = pca.fit_transform(Z)\\n\\n\\n#explain percentage\\npca_explained = PCA()\\npca_explained.fit(Z)\\np_pca = np.round(pca_explained.explained_variance_ratio_, 2)\\nprint(\"The 2 components explain percentage : \" + str(round(p_pca[0]+p_pca[1],4)))\\n'"
      ]
     },
     "execution_count": 8,
     "metadata": {},
     "output_type": "execute_result"
    }
   ],
   "source": [
    "# Regularization. For the large variaties in the input features.\n",
    "# MaxAbsScaler - For the highest explain power among all scalers from view of PCA and high predition accuracy.\n",
    "\n",
    "from sklearn.preprocessing import MaxAbsScaler \n",
    "Z = HC_x\n",
    "\n",
    "scaler = MaxAbsScaler()\n",
    "scaler.fit(Z)\n",
    "Z = scaler.transform(Z)\n",
    "\n",
    "HC_x.iloc[:,:] = Z\n",
    "\n",
    "\"\"\"\n",
    "#decomposition(PCA if needed)\n",
    "from sklearn.decomposition import PCA\n",
    "\n",
    "pca = PCA(n_components = 2)\n",
    "L = pca.fit_transform(Z)\n",
    "\n",
    "\n",
    "#explain percentage\n",
    "pca_explained = PCA()\n",
    "pca_explained.fit(Z)\n",
    "p_pca = np.round(pca_explained.explained_variance_ratio_, 2)\n",
    "print(\"The 2 components explain percentage : \" + str(round(p_pca[0]+p_pca[1],4)))\n",
    "\"\"\""
   ]
  },
  {
   "cell_type": "code",
   "execution_count": 9,
   "id": "1d78f3ce",
   "metadata": {
    "execution": {
     "iopub.execute_input": "2022-12-05T13:17:09.002689Z",
     "iopub.status.busy": "2022-12-05T13:17:09.001727Z",
     "iopub.status.idle": "2022-12-05T13:17:09.044446Z",
     "shell.execute_reply": "2022-12-05T13:17:09.043218Z"
    },
    "id": "e3TMOSDqy0pR",
    "outputId": "9585af3c-381b-49bb-93c0-3eddedc04255",
    "papermill": {
     "duration": 0.056357,
     "end_time": "2022-12-05T13:17:09.046922",
     "exception": false,
     "start_time": "2022-12-05T13:17:08.990565",
     "status": "completed"
    },
    "tags": []
   },
   "outputs": [
    {
     "data": {
      "text/html": [
       "<div>\n",
       "<style scoped>\n",
       "    .dataframe tbody tr th:only-of-type {\n",
       "        vertical-align: middle;\n",
       "    }\n",
       "\n",
       "    .dataframe tbody tr th {\n",
       "        vertical-align: top;\n",
       "    }\n",
       "\n",
       "    .dataframe thead th {\n",
       "        text-align: right;\n",
       "    }\n",
       "</style>\n",
       "<table border=\"1\" class=\"dataframe\">\n",
       "  <thead>\n",
       "    <tr style=\"text-align: right;\">\n",
       "      <th></th>\n",
       "      <th>CRIM</th>\n",
       "      <th>ZN</th>\n",
       "      <th>INDUS</th>\n",
       "      <th>NOX</th>\n",
       "      <th>RM</th>\n",
       "      <th>AGE</th>\n",
       "      <th>RAD</th>\n",
       "      <th>TAX</th>\n",
       "      <th>PTRATIO</th>\n",
       "      <th>LSTAT</th>\n",
       "    </tr>\n",
       "  </thead>\n",
       "  <tbody>\n",
       "    <tr>\n",
       "      <th>count</th>\n",
       "      <td>506.000000</td>\n",
       "      <td>506.000000</td>\n",
       "      <td>506.000000</td>\n",
       "      <td>506.000000</td>\n",
       "      <td>506.000000</td>\n",
       "      <td>506.000000</td>\n",
       "      <td>506.000000</td>\n",
       "      <td>506.000000</td>\n",
       "      <td>506.000000</td>\n",
       "      <td>506.000000</td>\n",
       "    </tr>\n",
       "    <tr>\n",
       "      <th>mean</th>\n",
       "      <td>0.040612</td>\n",
       "      <td>0.113636</td>\n",
       "      <td>0.401470</td>\n",
       "      <td>0.636849</td>\n",
       "      <td>0.715790</td>\n",
       "      <td>0.685749</td>\n",
       "      <td>0.397892</td>\n",
       "      <td>0.574173</td>\n",
       "      <td>0.838888</td>\n",
       "      <td>0.333238</td>\n",
       "    </tr>\n",
       "    <tr>\n",
       "      <th>std</th>\n",
       "      <td>0.096672</td>\n",
       "      <td>0.233225</td>\n",
       "      <td>0.247309</td>\n",
       "      <td>0.133040</td>\n",
       "      <td>0.080025</td>\n",
       "      <td>0.281489</td>\n",
       "      <td>0.362802</td>\n",
       "      <td>0.237042</td>\n",
       "      <td>0.098407</td>\n",
       "      <td>0.188071</td>\n",
       "    </tr>\n",
       "    <tr>\n",
       "      <th>min</th>\n",
       "      <td>0.000071</td>\n",
       "      <td>0.000000</td>\n",
       "      <td>0.016583</td>\n",
       "      <td>0.442021</td>\n",
       "      <td>0.405581</td>\n",
       "      <td>0.029000</td>\n",
       "      <td>0.041667</td>\n",
       "      <td>0.263010</td>\n",
       "      <td>0.572727</td>\n",
       "      <td>0.045562</td>\n",
       "    </tr>\n",
       "    <tr>\n",
       "      <th>25%</th>\n",
       "      <td>0.000922</td>\n",
       "      <td>0.000000</td>\n",
       "      <td>0.187094</td>\n",
       "      <td>0.515499</td>\n",
       "      <td>0.670330</td>\n",
       "      <td>0.450250</td>\n",
       "      <td>0.166667</td>\n",
       "      <td>0.392405</td>\n",
       "      <td>0.790909</td>\n",
       "      <td>0.183039</td>\n",
       "    </tr>\n",
       "    <tr>\n",
       "      <th>50%</th>\n",
       "      <td>0.002883</td>\n",
       "      <td>0.000000</td>\n",
       "      <td>0.349315</td>\n",
       "      <td>0.617681</td>\n",
       "      <td>0.707118</td>\n",
       "      <td>0.775000</td>\n",
       "      <td>0.208333</td>\n",
       "      <td>0.464135</td>\n",
       "      <td>0.865909</td>\n",
       "      <td>0.299184</td>\n",
       "    </tr>\n",
       "    <tr>\n",
       "      <th>75%</th>\n",
       "      <td>0.041327</td>\n",
       "      <td>0.125000</td>\n",
       "      <td>0.652487</td>\n",
       "      <td>0.716418</td>\n",
       "      <td>0.754385</td>\n",
       "      <td>0.940750</td>\n",
       "      <td>1.000000</td>\n",
       "      <td>0.936709</td>\n",
       "      <td>0.918182</td>\n",
       "      <td>0.446537</td>\n",
       "    </tr>\n",
       "    <tr>\n",
       "      <th>max</th>\n",
       "      <td>1.000000</td>\n",
       "      <td>1.000000</td>\n",
       "      <td>1.000000</td>\n",
       "      <td>1.000000</td>\n",
       "      <td>1.000000</td>\n",
       "      <td>1.000000</td>\n",
       "      <td>1.000000</td>\n",
       "      <td>1.000000</td>\n",
       "      <td>1.000000</td>\n",
       "      <td>1.000000</td>\n",
       "    </tr>\n",
       "  </tbody>\n",
       "</table>\n",
       "</div>"
      ],
      "text/plain": [
       "             CRIM          ZN       INDUS         NOX          RM         AGE  \\\n",
       "count  506.000000  506.000000  506.000000  506.000000  506.000000  506.000000   \n",
       "mean     0.040612    0.113636    0.401470    0.636849    0.715790    0.685749   \n",
       "std      0.096672    0.233225    0.247309    0.133040    0.080025    0.281489   \n",
       "min      0.000071    0.000000    0.016583    0.442021    0.405581    0.029000   \n",
       "25%      0.000922    0.000000    0.187094    0.515499    0.670330    0.450250   \n",
       "50%      0.002883    0.000000    0.349315    0.617681    0.707118    0.775000   \n",
       "75%      0.041327    0.125000    0.652487    0.716418    0.754385    0.940750   \n",
       "max      1.000000    1.000000    1.000000    1.000000    1.000000    1.000000   \n",
       "\n",
       "              RAD         TAX     PTRATIO       LSTAT  \n",
       "count  506.000000  506.000000  506.000000  506.000000  \n",
       "mean     0.397892    0.574173    0.838888    0.333238  \n",
       "std      0.362802    0.237042    0.098407    0.188071  \n",
       "min      0.041667    0.263010    0.572727    0.045562  \n",
       "25%      0.166667    0.392405    0.790909    0.183039  \n",
       "50%      0.208333    0.464135    0.865909    0.299184  \n",
       "75%      1.000000    0.936709    0.918182    0.446537  \n",
       "max      1.000000    1.000000    1.000000    1.000000  "
      ]
     },
     "execution_count": 9,
     "metadata": {},
     "output_type": "execute_result"
    }
   ],
   "source": [
    "# Make sure the input is regularized.\n",
    "HC_x.describe()"
   ]
  },
  {
   "cell_type": "markdown",
   "id": "71f27117",
   "metadata": {
    "id": "WqY0k196OSQv",
    "papermill": {
     "duration": 0.009839,
     "end_time": "2022-12-05T13:17:09.067015",
     "exception": false,
     "start_time": "2022-12-05T13:17:09.057176",
     "status": "completed"
    },
    "tags": []
   },
   "source": [
    "# 4.Training set and Testing set seperation. (by 15%)\n"
   ]
  },
  {
   "cell_type": "code",
   "execution_count": 10,
   "id": "e4e60c1a",
   "metadata": {
    "execution": {
     "iopub.execute_input": "2022-12-05T13:17:09.089174Z",
     "iopub.status.busy": "2022-12-05T13:17:09.088777Z",
     "iopub.status.idle": "2022-12-05T13:17:09.142316Z",
     "shell.execute_reply": "2022-12-05T13:17:09.141043Z"
    },
    "id": "tHOZRwEF8f0H",
    "papermill": {
     "duration": 0.068013,
     "end_time": "2022-12-05T13:17:09.145243",
     "exception": false,
     "start_time": "2022-12-05T13:17:09.077230",
     "status": "completed"
    },
    "tags": []
   },
   "outputs": [],
   "source": [
    "from sklearn.model_selection import train_test_split\n",
    "x_train, x_test, y_train, y_test = train_test_split(HC_x, y, test_size = 0.15)"
   ]
  },
  {
   "cell_type": "markdown",
   "id": "1f7f2d1a",
   "metadata": {
    "id": "qOwWvpr1OU_S",
    "papermill": {
     "duration": 0.010219,
     "end_time": "2022-12-05T13:17:09.166123",
     "exception": false,
     "start_time": "2022-12-05T13:17:09.155904",
     "status": "completed"
    },
    "tags": []
   },
   "source": [
    "# 5.Fitting of each ML model.\n"
   ]
  },
  {
   "cell_type": "code",
   "execution_count": 11,
   "id": "20786e62",
   "metadata": {
    "execution": {
     "iopub.execute_input": "2022-12-05T13:17:09.188917Z",
     "iopub.status.busy": "2022-12-05T13:17:09.188332Z",
     "iopub.status.idle": "2022-12-05T13:17:09.291214Z",
     "shell.execute_reply": "2022-12-05T13:17:09.290011Z"
    },
    "id": "GJjEpUeh8zVS",
    "outputId": "b3ba6808-7ff0-431d-c9f3-65837ee85f1d",
    "papermill": {
     "duration": 0.117302,
     "end_time": "2022-12-05T13:17:09.293971",
     "exception": false,
     "start_time": "2022-12-05T13:17:09.176669",
     "status": "completed"
    },
    "tags": []
   },
   "outputs": [
    {
     "data": {
      "text/plain": [
       "LinearRegression()"
      ]
     },
     "execution_count": 11,
     "metadata": {},
     "output_type": "execute_result"
    }
   ],
   "source": [
    "from sklearn import metrics\n",
    "from sklearn.linear_model import LinearRegression\n",
    "\n",
    "# Create a Linear Regression Model.\n",
    "lm = LinearRegression()\n",
    "lm.fit(x_train, y_train)\n",
    "LinearRegression(fit_intercept=True, n_jobs=None)"
   ]
  },
  {
   "cell_type": "code",
   "execution_count": 12,
   "id": "09072da4",
   "metadata": {
    "execution": {
     "iopub.execute_input": "2022-12-05T13:17:09.317710Z",
     "iopub.status.busy": "2022-12-05T13:17:09.316627Z",
     "iopub.status.idle": "2022-12-05T13:17:09.330707Z",
     "shell.execute_reply": "2022-12-05T13:17:09.329177Z"
    },
    "id": "4nRYxxVeHQJV",
    "outputId": "7ec88360-b282-440f-9b88-f076cf0ba291",
    "papermill": {
     "duration": 0.029157,
     "end_time": "2022-12-05T13:17:09.333856",
     "exception": false,
     "start_time": "2022-12-05T13:17:09.304699",
     "status": "completed"
    },
    "tags": []
   },
   "outputs": [
    {
     "name": "stdout",
     "output_type": "stream",
     "text": [
      "R^2: 0.6993\n",
      "Adjusted R^2: 0.6921\n",
      "MSE: 26.1001\n"
     ]
    }
   ],
   "source": [
    "# Model fitting on training data.\n",
    "y_pred_lm = lm.predict(x_train)\n",
    "print('R^2:',round(metrics.r2_score(y_train, y_pred_lm), 4))\n",
    "print('Adjusted R^2:',round(1 - (1-metrics.r2_score(y_train, y_pred_lm))*(len(y_train) - 1)/(len(y_train) - x_train.shape[1] - 1),4))\n",
    "print('MSE:',round(metrics.mean_squared_error(y_train, y_pred_lm),4))"
   ]
  },
  {
   "cell_type": "code",
   "execution_count": 13,
   "id": "36d61010",
   "metadata": {
    "execution": {
     "iopub.execute_input": "2022-12-05T13:17:09.357376Z",
     "iopub.status.busy": "2022-12-05T13:17:09.356923Z",
     "iopub.status.idle": "2022-12-05T13:17:09.370022Z",
     "shell.execute_reply": "2022-12-05T13:17:09.368669Z"
    },
    "id": "ooHitBuyIKOy",
    "outputId": "c1bf689e-f6ce-4738-912e-10016531bc04",
    "papermill": {
     "duration": 0.02861,
     "end_time": "2022-12-05T13:17:09.373471",
     "exception": false,
     "start_time": "2022-12-05T13:17:09.344861",
     "status": "completed"
    },
    "tags": []
   },
   "outputs": [
    {
     "name": "stdout",
     "output_type": "stream",
     "text": [
      "R^2: 0.6793\n",
      "Adjusted R^2: 0.63\n",
      "MSE: 22.7771\n"
     ]
    }
   ],
   "source": [
    "# Predicting with the testing data.\n",
    "y_test_pred_lm = lm.predict(x_test)\n",
    "\n",
    "# Model Evaluation\n",
    "score_linreg = metrics.r2_score(y_test, y_test_pred_lm)\n",
    "print('R^2:', round(score_linreg,4))\n",
    "print('Adjusted R^2:',round(1 - (1-metrics.r2_score(y_test, y_test_pred_lm))*(len(y_test)-1)/(len(y_test)-x_test.shape[1]-1),4))\n",
    "print('MSE:',round(metrics.mean_squared_error(y_test, y_test_pred_lm),4))"
   ]
  },
  {
   "cell_type": "code",
   "execution_count": 14,
   "id": "1a8c3bff",
   "metadata": {
    "execution": {
     "iopub.execute_input": "2022-12-05T13:17:09.398830Z",
     "iopub.status.busy": "2022-12-05T13:17:09.398398Z",
     "iopub.status.idle": "2022-12-05T13:17:09.783712Z",
     "shell.execute_reply": "2022-12-05T13:17:09.782564Z"
    },
    "id": "CgVdmpUBMEsA",
    "outputId": "3c8095dd-daab-4b6b-8a66-1d7ca90dfd0c",
    "papermill": {
     "duration": 0.400824,
     "end_time": "2022-12-05T13:17:09.786602",
     "exception": false,
     "start_time": "2022-12-05T13:17:09.385778",
     "status": "completed"
    },
    "tags": []
   },
   "outputs": [
    {
     "data": {
      "image/png": "[encoded data removed]",
      "text/plain": [
       "<Figure size 432x288 with 1 Axes>"
      ]
     },
     "metadata": {},
     "output_type": "display_data"
    }
   ],
   "source": [
    "# Visualizing the differences between real prices and predicted prices.\n",
    "plt.scatter(y_train, y_pred_lm)\n",
    "plt.xlabel(\"Real Prices\")\n",
    "plt.ylabel(\"Predicted Prices\")\n",
    "plt.title(\"Real Prices vs Predicted prices\")\n",
    "plt.show()"
   ]
  },
  {
   "cell_type": "code",
   "execution_count": 15,
   "id": "4f21c552",
   "metadata": {
    "execution": {
     "iopub.execute_input": "2022-12-05T13:17:09.811697Z",
     "iopub.status.busy": "2022-12-05T13:17:09.810319Z",
     "iopub.status.idle": "2022-12-05T13:17:10.136842Z",
     "shell.execute_reply": "2022-12-05T13:17:10.135425Z"
    },
    "id": "jH4O2qxcIFY6",
    "outputId": "0abb267f-f53c-4fe4-9dd5-406eeb673cb2",
    "papermill": {
     "duration": 0.341628,
     "end_time": "2022-12-05T13:17:10.139470",
     "exception": false,
     "start_time": "2022-12-05T13:17:09.797842",
     "status": "completed"
    },
    "tags": []
   },
   "outputs": [
    {
     "name": "stdout",
     "output_type": "stream",
     "text": [
      "p_val of normality test is : 8.049803151117528e-36, so it's normally distributed.\n",
      "\n"
     ]
    },
    {
     "data": {
      "image/png": "[encoded data removed]",
      "text/plain": [
       "<Figure size 432x288 with 1 Axes>"
      ]
     },
     "metadata": {},
     "output_type": "display_data"
    }
   ],
   "source": [
    "# Checking of Normality of residuals.\n",
    "from scipy import stats\n",
    "statsn, pval = stats.normaltest(y_train - y_pred_lm)\n",
    "print(\"p_val of normality test is : \" + str(pval) + \", so it's normally distributed.\" + \"\\n\")\n",
    "\n",
    "sns.distplot(y_train - y_pred_lm)\n",
    "plt.title(\"Histogram of Residuals\")\n",
    "plt.xlabel(\"Residuals\")\n",
    "plt.ylabel(\"Frequency\")\n",
    "plt.show()"
   ]
  },
  {
   "cell_type": "code",
   "execution_count": 16,
   "id": "c5d6ba91",
   "metadata": {
    "execution": {
     "iopub.execute_input": "2022-12-05T13:17:10.165671Z",
     "iopub.status.busy": "2022-12-05T13:17:10.164285Z",
     "iopub.status.idle": "2022-12-05T13:17:10.580762Z",
     "shell.execute_reply": "2022-12-05T13:17:10.579301Z"
    },
    "id": "xv1Xtr3T_0a2",
    "outputId": "94111ae6-d26b-4a00-a472-abb750a7c7df",
    "papermill": {
     "duration": 0.432407,
     "end_time": "2022-12-05T13:17:10.583600",
     "exception": false,
     "start_time": "2022-12-05T13:17:10.151193",
     "status": "completed"
    },
    "tags": []
   },
   "outputs": [
    {
     "data": {
      "text/plain": [
       "RandomForestRegressor()"
      ]
     },
     "execution_count": 16,
     "metadata": {},
     "output_type": "execute_result"
    }
   ],
   "source": [
    "# Import Random Forest Regressor.\n",
    "from sklearn.ensemble import RandomForestRegressor\n",
    "\n",
    "# Create a Random Forest Regressor.\n",
    "rfm = RandomForestRegressor()\n",
    "rfm.fit(x_train, y_train)"
   ]
  },
  {
   "cell_type": "code",
   "execution_count": 17,
   "id": "38a4e02b",
   "metadata": {
    "execution": {
     "iopub.execute_input": "2022-12-05T13:17:10.609392Z",
     "iopub.status.busy": "2022-12-05T13:17:10.608988Z",
     "iopub.status.idle": "2022-12-05T13:17:10.637998Z",
     "shell.execute_reply": "2022-12-05T13:17:10.637043Z"
    },
    "id": "_mrLGwylAfp8",
    "outputId": "66666097-7889-45d9-d91a-740ed9322599",
    "papermill": {
     "duration": 0.045023,
     "end_time": "2022-12-05T13:17:10.640733",
     "exception": false,
     "start_time": "2022-12-05T13:17:10.595710",
     "status": "completed"
    },
    "tags": []
   },
   "outputs": [
    {
     "name": "stdout",
     "output_type": "stream",
     "text": [
      "R^2: 0.976\n",
      "Adjusted R^2: 0.9754\n",
      "MSE: 2.083\n"
     ]
    }
   ],
   "source": [
    "# Model fitting on training data.\n",
    "y_pred_rf = rfm.predict(x_train)\n",
    "print('R^2:',round(metrics.r2_score(y_train, y_pred_rf),4))\n",
    "print('Adjusted R^2:',round(1 - (1-metrics.r2_score(y_train, y_pred_rf))*(len(y_train)-1)/(len(y_train)-x_train.shape[1]-1),4))\n",
    "print('MSE:',round(metrics.mean_squared_error(y_train, y_pred_rf),4))"
   ]
  },
  {
   "cell_type": "code",
   "execution_count": 18,
   "id": "3e4149ae",
   "metadata": {
    "execution": {
     "iopub.execute_input": "2022-12-05T13:17:10.666742Z",
     "iopub.status.busy": "2022-12-05T13:17:10.665772Z",
     "iopub.status.idle": "2022-12-05T13:17:10.690220Z",
     "shell.execute_reply": "2022-12-05T13:17:10.688550Z"
    },
    "id": "4GJShyV3A1nK",
    "outputId": "4e448bfc-f73a-4a8f-b105-355bd478ecf3",
    "papermill": {
     "duration": 0.040212,
     "end_time": "2022-12-05T13:17:10.692855",
     "exception": false,
     "start_time": "2022-12-05T13:17:10.652643",
     "status": "completed"
    },
    "tags": []
   },
   "outputs": [
    {
     "name": "stdout",
     "output_type": "stream",
     "text": [
      "R^2: 0.8663\n",
      "Adjusted R^2: 0.8458\n",
      "MSE: 9.4939\n"
     ]
    }
   ],
   "source": [
    "# Predicting with the testing data.\n",
    "y_test_pred_rf = rfm.predict(x_test)\n",
    "\n",
    "# Model Evaluation\n",
    "score_rf = round(metrics.r2_score(y_test, y_test_pred_rf),4)\n",
    "print('R^2:', score_rf)\n",
    "print('Adjusted R^2:',round(1 - (1-metrics.r2_score(y_test, y_test_pred_rf))*(len(y_test)-1)/(len(y_test)-x_test.shape[1]-1),4))\n",
    "print('MSE:',round(metrics.mean_squared_error(y_test, y_test_pred_rf),4))"
   ]
  },
  {
   "cell_type": "code",
   "execution_count": 19,
   "id": "6b5140d2",
   "metadata": {
    "execution": {
     "iopub.execute_input": "2022-12-05T13:17:10.718542Z",
     "iopub.status.busy": "2022-12-05T13:17:10.718118Z",
     "iopub.status.idle": "2022-12-05T13:17:10.961093Z",
     "shell.execute_reply": "2022-12-05T13:17:10.960236Z"
    },
    "id": "MgDWQHpeAyAy",
    "outputId": "a0a2115a-cecc-47bc-9a5b-d9ff04cb2ba6",
    "papermill": {
     "duration": 0.258449,
     "end_time": "2022-12-05T13:17:10.963268",
     "exception": false,
     "start_time": "2022-12-05T13:17:10.704819",
     "status": "completed"
    },
    "tags": []
   },
   "outputs": [
    {
     "data": {
      "image/png": "[encoded data removed]",
      "text/plain": [
       "<Figure size 432x288 with 1 Axes>"
      ]
     },
     "metadata": {},
     "output_type": "display_data"
    }
   ],
   "source": [
    "# Visualizing the differences between actual prices and predicted values\n",
    "plt.scatter(y_train, y_pred_rf)\n",
    "plt.xlabel(\"Real Prices\")\n",
    "plt.ylabel(\"Predicted Prices\")\n",
    "plt.title(\"Real Prices vs Predicted prices\")\n",
    "plt.show()"
   ]
  },
  {
   "cell_type": "code",
   "execution_count": 20,
   "id": "43b4d298",
   "metadata": {
    "execution": {
     "iopub.execute_input": "2022-12-05T13:17:10.990985Z",
     "iopub.status.busy": "2022-12-05T13:17:10.989876Z",
     "iopub.status.idle": "2022-12-05T13:17:11.353621Z",
     "shell.execute_reply": "2022-12-05T13:17:11.352283Z"
    },
    "id": "oXLD5fH-N1GR",
    "outputId": "daafe37a-1dc8-419f-96ea-7622fd865dc4",
    "papermill": {
     "duration": 0.380137,
     "end_time": "2022-12-05T13:17:11.356339",
     "exception": false,
     "start_time": "2022-12-05T13:17:10.976202",
     "status": "completed"
    },
    "tags": []
   },
   "outputs": [
    {
     "name": "stdout",
     "output_type": "stream",
     "text": [
      "p_val of normality test is : 1.3311902577279215e-21, so it's normally distributed.\n",
      "\n"
     ]
    },
    {
     "data": {
      "image/png": "[encoded data removed]",
      "text/plain": [
       "<Figure size 432x288 with 1 Axes>"
      ]
     },
     "metadata": {},
     "output_type": "display_data"
    }
   ],
   "source": [
    "# Checking of Normality of residuals.\n",
    "statsn, pval = stats.normaltest(y_train - y_pred_rf)\n",
    "print(\"p_val of normality test is : \" + str(pval) + \", so it's normally distributed.\" + \"\\n\")\n",
    "\n",
    "sns.distplot(y_train - y_pred_rf)\n",
    "plt.title(\"Histogram of Residuals\")\n",
    "plt.xlabel(\"Residuals\")\n",
    "plt.ylabel(\"Frequency\")\n",
    "plt.show()"
   ]
  },
  {
   "cell_type": "code",
   "execution_count": 21,
   "id": "dcc9c814",
   "metadata": {
    "execution": {
     "iopub.execute_input": "2022-12-05T13:17:11.383786Z",
     "iopub.status.busy": "2022-12-05T13:17:11.383361Z",
     "iopub.status.idle": "2022-12-05T13:17:11.388034Z",
     "shell.execute_reply": "2022-12-05T13:17:11.386836Z"
    },
    "id": "3i81Op6R3OZ3",
    "papermill": {
     "duration": 0.021407,
     "end_time": "2022-12-05T13:17:11.390470",
     "exception": false,
     "start_time": "2022-12-05T13:17:11.369063",
     "status": "completed"
    },
    "tags": []
   },
   "outputs": [],
   "source": [
    "# Comparison of Linear Regression model and Random Forest Regressor.\n",
    "# It seems that both of the model do not occur serios overfitting or inder fitting problems.\n",
    "# Random Forest Regressor seems to be outperforming the Linear Regression model."
   ]
  },
  {
   "cell_type": "markdown",
   "id": "808d2299",
   "metadata": {
    "id": "uHG07l2IOZJw",
    "papermill": {
     "duration": 0.01236,
     "end_time": "2022-12-05T13:17:11.415572",
     "exception": false,
     "start_time": "2022-12-05T13:17:11.403212",
     "status": "completed"
    },
    "tags": []
   },
   "source": [
    "# 5.Compare the accuracy with the regression models. \n"
   ]
  },
  {
   "cell_type": "code",
   "execution_count": 22,
   "id": "8c7891e8",
   "metadata": {
    "execution": {
     "iopub.execute_input": "2022-12-05T13:17:11.442750Z",
     "iopub.status.busy": "2022-12-05T13:17:11.442303Z",
     "iopub.status.idle": "2022-12-05T13:17:11.449882Z",
     "shell.execute_reply": "2022-12-05T13:17:11.448381Z"
    },
    "id": "KkIrSebgBIQw",
    "outputId": "66aedc29-57f0-43cc-d5b5-346a851d5d1f",
    "papermill": {
     "duration": 0.024458,
     "end_time": "2022-12-05T13:17:11.452642",
     "exception": false,
     "start_time": "2022-12-05T13:17:11.428184",
     "status": "completed"
    },
    "tags": []
   },
   "outputs": [
    {
     "name": "stdout",
     "output_type": "stream",
     "text": [
      "The defenition of Acc. Here is referring to R-squared score.\n",
      "Acc. of Linear Regression Model : 0.6793\n",
      "Acc. of Random Forest Model : 0.8663\n"
     ]
    }
   ],
   "source": [
    "print(\"The defenition of Acc. Here is referring to R-squared score.\")\n",
    "print(\"Acc. of Linear Regression Model : \" + str(round(score_linreg, 4)))\n",
    "print(\"Acc. of Random Forest Model : \" + str(round(score_rf, 4)))"
   ]
  },
  {
   "cell_type": "markdown",
   "id": "88534c48",
   "metadata": {
    "id": "8lno4_-GOfaw",
    "papermill": {
     "duration": 0.012989,
     "end_time": "2022-12-05T13:17:11.478735",
     "exception": false,
     "start_time": "2022-12-05T13:17:11.465746",
     "status": "completed"
    },
    "tags": []
   },
   "source": [
    "# 6.Neural Nnetwork\n"
   ]
  },
  {
   "cell_type": "code",
   "execution_count": 23,
   "id": "8c1ab467",
   "metadata": {
    "execution": {
     "iopub.execute_input": "2022-12-05T13:17:11.506548Z",
     "iopub.status.busy": "2022-12-05T13:17:11.506109Z",
     "iopub.status.idle": "2022-12-05T13:17:17.760226Z",
     "shell.execute_reply": "2022-12-05T13:17:17.759034Z"
    },
    "id": "PvgRV11VN3Pg",
    "outputId": "df215618-13e7-440a-bf81-a632cc6a931f",
    "papermill": {
     "duration": 6.270786,
     "end_time": "2022-12-05T13:17:17.762579",
     "exception": false,
     "start_time": "2022-12-05T13:17:11.491793",
     "status": "completed"
    },
    "tags": []
   },
   "outputs": [
    {
     "data": {
      "text/plain": [
       "'\\nfrom tensorflow.keras import backend as K\\n\\ndef ssr(y_true, y_pred):\\n  ss_res = K.sum(K.square(y_true - y_pred))\\n  ss_tot = K.sum(K.square(y_true - K.mean(y_true)))\\n  return(1 - (ss_res / (ss_tot + K.epsilon())))\\n'"
      ]
     },
     "execution_count": 23,
     "metadata": {},
     "output_type": "execute_result"
    }
   ],
   "source": [
    "import keras\n",
    "\n",
    "from tensorflow.keras.models import Sequential\n",
    "from tensorflow.keras.layers import Dense\n",
    "from tensorflow.keras.layers import Dropout\n",
    "from sklearn.metrics import r2_score\n",
    "\n",
    "\n",
    "# Since the prediction accuracy for the output of a scalar would be 0 for most of the scenarios.\n",
    "# Therefore, I decided to define the accuracy of NN model as R^2 as the classical linear regession model.\n",
    "\"\"\"\n",
    "from tensorflow.keras import backend as K\n",
    "\n",
    "def ssr(y_true, y_pred):\n",
    "  ss_res = K.sum(K.square(y_true - y_pred))\n",
    "  ss_tot = K.sum(K.square(y_true - K.mean(y_true)))\n",
    "  return(1 - (ss_res / (ss_tot + K.epsilon())))\n",
    "\"\"\""
   ]
  },
  {
   "cell_type": "code",
   "execution_count": 24,
   "id": "e22a9580",
   "metadata": {
    "execution": {
     "iopub.execute_input": "2022-12-05T13:17:17.791661Z",
     "iopub.status.busy": "2022-12-05T13:17:17.790911Z",
     "iopub.status.idle": "2022-12-05T13:17:18.144802Z",
     "shell.execute_reply": "2022-12-05T13:17:18.143509Z"
    },
    "id": "tMsapoeFODDN",
    "outputId": "99fb09db-a609-4bf9-b131-a94c2acfb27e",
    "papermill": {
     "duration": 0.372183,
     "end_time": "2022-12-05T13:17:18.148072",
     "exception": false,
     "start_time": "2022-12-05T13:17:17.775889",
     "status": "completed"
    },
    "tags": []
   },
   "outputs": [
    {
     "name": "stderr",
     "output_type": "stream",
     "text": [
      "2022-12-05 13:17:17.832387: I tensorflow/core/common_runtime/process_util.cc:146] Creating new thread pool with default inter op setting: 2. Tune using inter_op_parallelism_threads for best performance.\n"
     ]
    },
    {
     "name": "stdout",
     "output_type": "stream",
     "text": [
      "Model: \"sequential\"\n",
      "_________________________________________________________________\n",
      "Layer (type)                 Output Shape              Param #   \n",
      "=================================================================\n",
      "dense (Dense)                (None, 10)                110       \n",
      "_________________________________________________________________\n",
      "dense_1 (Dense)              (None, 10)                110       \n",
      "_________________________________________________________________\n",
      "dense_2 (Dense)              (None, 10)                110       \n",
      "_________________________________________________________________\n",
      "dense_3 (Dense)              (None, 1)                 11        \n",
      "=================================================================\n",
      "Total params: 341\n",
      "Trainable params: 341\n",
      "Non-trainable params: 0\n",
      "_________________________________________________________________\n"
     ]
    }
   ],
   "source": [
    "# NN Model stacking.\n",
    "model_nn = Sequential()\n",
    "model_nn.add(Dense(10, input_dim = len(HC_x.columns)))\n",
    "model_nn.add(Dense(10))\n",
    "model_nn.add(Dense(10))\n",
    "model_nn.add(Dense(1))\n",
    "model_nn.compile(loss = \"mse\", optimizer = \"rmsprop\", metrics = [r2_score], run_eagerly = True)\n",
    "\n",
    "model_nn.summary()"
   ]
  },
  {
   "cell_type": "code",
   "execution_count": 25,
   "id": "2475f3d5",
   "metadata": {
    "execution": {
     "iopub.execute_input": "2022-12-05T13:17:18.177769Z",
     "iopub.status.busy": "2022-12-05T13:17:18.176892Z",
     "iopub.status.idle": "2022-12-05T13:17:56.252332Z",
     "shell.execute_reply": "2022-12-05T13:17:56.250981Z"
    },
    "id": "qHxXrCMqOVkF",
    "outputId": "d10a0484-1a07-498e-f6a7-de9b3fd97613",
    "papermill": {
     "duration": 38.093413,
     "end_time": "2022-12-05T13:17:56.254882",
     "exception": false,
     "start_time": "2022-12-05T13:17:18.161469",
     "status": "completed"
    },
    "tags": []
   },
   "outputs": [
    {
     "name": "stderr",
     "output_type": "stream",
     "text": [
      "2022-12-05 13:17:18.279095: I tensorflow/compiler/mlir/mlir_graph_optimization_pass.cc:185] None of the MLIR Optimization Passes are enabled (registered 2)\n"
     ]
    },
    {
     "name": "stdout",
     "output_type": "stream",
     "text": [
      "Epoch 1/30\n",
      "20/20 [==============================] - 5s 60ms/step - loss: 550.2806 - r2_score: -6.7891 - val_loss: 509.3455 - val_r2_score: -4.6462\n",
      "Epoch 2/30\n",
      "20/20 [==============================] - 1s 57ms/step - loss: 468.0719 - r2_score: -5.7202 - val_loss: 425.5466 - val_r2_score: -3.4199\n",
      "Epoch 3/30\n",
      "20/20 [==============================] - 1s 57ms/step - loss: 373.9273 - r2_score: -4.3381 - val_loss: 325.2667 - val_r2_score: -2.0890\n",
      "Epoch 4/30\n",
      "20/20 [==============================] - 1s 57ms/step - loss: 272.6080 - r2_score: -2.4913 - val_loss: 232.3489 - val_r2_score: -1.1219\n",
      "Epoch 5/30\n",
      "20/20 [==============================] - 1s 57ms/step - loss: 189.3460 - r2_score: -1.5415 - val_loss: 169.6804 - val_r2_score: -0.8865\n",
      "Epoch 6/30\n",
      "20/20 [==============================] - 1s 56ms/step - loss: 140.4627 - r2_score: -0.7720 - val_loss: 141.1949 - val_r2_score: -1.3927\n",
      "Epoch 7/30\n",
      "20/20 [==============================] - 1s 56ms/step - loss: 123.6893 - r2_score: -0.6321 - val_loss: 134.1029 - val_r2_score: -1.2913\n",
      "Epoch 8/30\n",
      "20/20 [==============================] - 1s 57ms/step - loss: 117.5221 - r2_score: -0.5445 - val_loss: 127.1136 - val_r2_score: -1.3974\n",
      "Epoch 9/30\n",
      "20/20 [==============================] - 1s 59ms/step - loss: 111.0973 - r2_score: -0.4840 - val_loss: 120.5698 - val_r2_score: -1.1983\n",
      "Epoch 10/30\n",
      "20/20 [==============================] - 1s 57ms/step - loss: 104.5461 - r2_score: -0.3325 - val_loss: 114.5736 - val_r2_score: -1.3373\n",
      "Epoch 11/30\n",
      "20/20 [==============================] - 1s 56ms/step - loss: 98.7414 - r2_score: -0.2400 - val_loss: 107.4133 - val_r2_score: -0.9971\n",
      "Epoch 12/30\n",
      "20/20 [==============================] - 1s 57ms/step - loss: 92.7498 - r2_score: -0.1641 - val_loss: 101.6103 - val_r2_score: -1.0256\n",
      "Epoch 13/30\n",
      "20/20 [==============================] - 1s 57ms/step - loss: 87.0843 - r2_score: -0.1068 - val_loss: 94.0513 - val_r2_score: -0.6189\n",
      "Epoch 14/30\n",
      "20/20 [==============================] - 1s 57ms/step - loss: 80.8990 - r2_score: 0.0031 - val_loss: 87.0259 - val_r2_score: -0.4735\n",
      "Epoch 15/30\n",
      "20/20 [==============================] - 1s 57ms/step - loss: 74.3350 - r2_score: -0.0844 - val_loss: 80.4614 - val_r2_score: -0.1584\n",
      "Epoch 16/30\n",
      "20/20 [==============================] - 1s 56ms/step - loss: 69.0157 - r2_score: 0.1561 - val_loss: 75.0943 - val_r2_score: 0.0083\n",
      "Epoch 17/30\n",
      "20/20 [==============================] - 1s 56ms/step - loss: 63.7904 - r2_score: 0.2196 - val_loss: 67.5616 - val_r2_score: -0.1237\n",
      "Epoch 18/30\n",
      "20/20 [==============================] - 1s 57ms/step - loss: 58.8932 - r2_score: 0.2561 - val_loss: 61.2925 - val_r2_score: 0.0610\n",
      "Epoch 19/30\n",
      "20/20 [==============================] - 1s 59ms/step - loss: 54.7316 - r2_score: 0.3030 - val_loss: 56.9293 - val_r2_score: 0.1464\n",
      "Epoch 20/30\n",
      "20/20 [==============================] - 1s 57ms/step - loss: 51.6036 - r2_score: 0.3669 - val_loss: 52.6521 - val_r2_score: 0.2800\n",
      "Epoch 21/30\n",
      "20/20 [==============================] - 1s 57ms/step - loss: 48.6013 - r2_score: 0.3839 - val_loss: 50.2821 - val_r2_score: 0.5113\n",
      "Epoch 22/30\n",
      "20/20 [==============================] - 1s 57ms/step - loss: 46.7983 - r2_score: 0.4243 - val_loss: 47.6687 - val_r2_score: 0.5754\n",
      "Epoch 23/30\n",
      "20/20 [==============================] - 1s 57ms/step - loss: 44.6932 - r2_score: 0.4489 - val_loss: 43.6461 - val_r2_score: 0.5680\n",
      "Epoch 24/30\n",
      "20/20 [==============================] - 1s 57ms/step - loss: 43.6698 - r2_score: 0.3358 - val_loss: 42.9058 - val_r2_score: 0.6188\n",
      "Epoch 25/30\n",
      "20/20 [==============================] - 1s 56ms/step - loss: 42.6587 - r2_score: 0.4956 - val_loss: 42.0499 - val_r2_score: 0.5124\n",
      "Epoch 26/30\n",
      "20/20 [==============================] - 1s 57ms/step - loss: 43.0076 - r2_score: 0.4265 - val_loss: 40.7416 - val_r2_score: 0.6342\n",
      "Epoch 27/30\n",
      "20/20 [==============================] - 1s 61ms/step - loss: 41.7197 - r2_score: 0.4792 - val_loss: 40.5412 - val_r2_score: 0.6510\n",
      "Epoch 28/30\n",
      "20/20 [==============================] - 1s 60ms/step - loss: 41.2645 - r2_score: 0.4988 - val_loss: 39.6165 - val_r2_score: 0.6539\n",
      "Epoch 29/30\n",
      "20/20 [==============================] - 1s 57ms/step - loss: 40.5412 - r2_score: 0.4940 - val_loss: 39.2298 - val_r2_score: 0.6590\n",
      "Epoch 30/30\n",
      "20/20 [==============================] - 1s 57ms/step - loss: 39.9451 - r2_score: 0.4814 - val_loss: 37.5831 - val_r2_score: 0.6471\n"
     ]
    },
    {
     "data": {
      "image/png": "[encoded data removed]",
      "text/plain": [
       "<Figure size 432x288 with 2 Axes>"
      ]
     },
     "metadata": {},
     "output_type": "display_data"
    },
    {
     "name": "stdout",
     "output_type": "stream",
     "text": [
      "Brief view on the result of training.\n"
     ]
    }
   ],
   "source": [
    "# NN Model training.\n",
    "# This dataset is a small one, which may somehow occur overfitting problem.\n",
    "\n",
    "nn_result = model_nn.fit(x_train, y_train, batch_size = 20, epochs = 30, validation_split = 0.10)\n",
    "\n",
    "fig, ax1 = plt.subplots()\n",
    "ax2 = ax1.twinx()\n",
    "\n",
    "ax1.plot(nn_result.history[\"r2_score\"], color = \"g\", label = \"R2\")\n",
    "ax2.plot(nn_result.history[\"loss\"], color = \"b\", label = \"Loss\")\n",
    "\n",
    "ax1.set_ylabel(\"r2_score\", color = \"g\")\n",
    "ax2.set_ylabel(\"loss\", color = \"b\")\n",
    "\n",
    "plt.title(\"Model Accuracy\")\n",
    "plt.xlabel(\"epoch\")\n",
    "fig.legend()\n",
    "plt.show()\n",
    "\n",
    "print(\"Brief view on the result of training.\")"
   ]
  },
  {
   "cell_type": "code",
   "execution_count": 26,
   "id": "1b20963a",
   "metadata": {
    "execution": {
     "iopub.execute_input": "2022-12-05T13:17:56.333749Z",
     "iopub.status.busy": "2022-12-05T13:17:56.332379Z",
     "iopub.status.idle": "2022-12-05T13:17:56.768926Z",
     "shell.execute_reply": "2022-12-05T13:17:56.768008Z"
    },
    "id": "fNcVXoNDDjkm",
    "outputId": "d652fef0-4b9d-4950-bced-d51cddb4438d",
    "papermill": {
     "duration": 0.478341,
     "end_time": "2022-12-05T13:17:56.771211",
     "exception": false,
     "start_time": "2022-12-05T13:17:56.292870",
     "status": "completed"
    },
    "tags": []
   },
   "outputs": [
    {
     "data": {
      "image/png": "[encoded data removed]",
      "text/plain": [
       "<Figure size 720x576 with 2 Axes>"
      ]
     },
     "metadata": {},
     "output_type": "display_data"
    }
   ],
   "source": [
    "# Examine the process of NN_model on loss and R2 score.\n",
    "plt.figure(figsize = (10, 8))\n",
    "plt.subplot(211)  \n",
    "\n",
    "plt.plot(nn_result.history[\"loss\"])\n",
    "plt.plot(nn_result.history[\"val_loss\"])\n",
    "plt.title(\"Model Loss Value\")\n",
    "plt.ylabel(\"Accuracy\")\n",
    "plt.legend([\"Training\", \"Validation\"], loc = \"upper left\")\n",
    "\n",
    "\n",
    "plt.subplot(212)  \n",
    "\n",
    "plt.plot(nn_result.history[\"r2_score\"])\n",
    "plt.plot(nn_result.history[\"val_r2_score\"])\n",
    "plt.title(\"Model Accuracy (R2 score)\")\n",
    "plt.ylabel(\"Accuracy\")\n",
    "plt.xlabel(\"Epochs\")\n",
    "plt.legend([\"Training\", \"Validation\"], loc = \"upper left\")\n",
    "plt.show()"
   ]
  },
  {
   "cell_type": "code",
   "execution_count": 27,
   "id": "dc434778",
   "metadata": {
    "execution": {
     "iopub.execute_input": "2022-12-05T13:17:56.850594Z",
     "iopub.status.busy": "2022-12-05T13:17:56.849424Z",
     "iopub.status.idle": "2022-12-05T13:17:57.063544Z",
     "shell.execute_reply": "2022-12-05T13:17:57.062103Z"
    },
    "id": "-8ewSkX5TLjn",
    "outputId": "fa9d1cb6-c020-4aa1-e0d3-46a695a79f28",
    "papermill": {
     "duration": 0.256783,
     "end_time": "2022-12-05T13:17:57.066022",
     "exception": false,
     "start_time": "2022-12-05T13:17:56.809239",
     "status": "completed"
    },
    "tags": []
   },
   "outputs": [
    {
     "name": "stdout",
     "output_type": "stream",
     "text": [
      "3/3 [==============================] - 0s 38ms/step - loss: 38.5716 - r2_score: 0.3765\n",
      "Accuracy of CNN is : 0.3765\n"
     ]
    }
   ],
   "source": [
    "# Accuracy of well-trainde NN Model.\n",
    "scores = model_nn.evaluate(x_test, y_test)\n",
    "print(\"Accuracy of CNN is : \" + str(round(scores[1],4)))\n",
    "#The accuracyt is quite unstable..."
   ]
  },
  {
   "cell_type": "code",
   "execution_count": 28,
   "id": "99b49a2d",
   "metadata": {
    "execution": {
     "iopub.execute_input": "2022-12-05T13:17:57.147719Z",
     "iopub.status.busy": "2022-12-05T13:17:57.147264Z",
     "iopub.status.idle": "2022-12-05T13:17:57.154238Z",
     "shell.execute_reply": "2022-12-05T13:17:57.153071Z"
    },
    "id": "QoeskZBK7Fns",
    "outputId": "da628861-8a2d-4dbe-d826-8b6d15350a1c",
    "papermill": {
     "duration": 0.049468,
     "end_time": "2022-12-05T13:17:57.156999",
     "exception": false,
     "start_time": "2022-12-05T13:17:57.107531",
     "status": "completed"
    },
    "tags": []
   },
   "outputs": [
    {
     "name": "stdout",
     "output_type": "stream",
     "text": [
      "The defenition of Acc. here is referring to R-squared score.\n",
      "Acc. of Linear Regression Model : 0.6793\n",
      "Acc. of Random Forest Model : 0.8663\n",
      "Acc. of Neural Network Model : 0.3765\n"
     ]
    }
   ],
   "source": [
    "# Compare the accuracy of all the regression models. \n",
    "print(\"The defenition of Acc. here is referring to R-squared score.\")\n",
    "print(\"Acc. of Linear Regression Model : \" + str(round(score_linreg, 4)))\n",
    "print(\"Acc. of Random Forest Model : \" + str(round(score_rf, 4)))\n",
    "print(\"Acc. of Neural Network Model : \" + str(round(scores[1],4)))"
   ]
  }
 ],
 "metadata": {
  "kernelspec": {
   "display_name": "Python 3",
   "language": "python",
   "name": "python3"
  },
  "language_info": {
   "codemirror_mode": {
    "name": "ipython",
    "version": 3
   },
   "file_extension": ".py",
   "mimetype": "text/x-python",
   "name": "python",
   "nbconvert_exporter": "python",
   "pygments_lexer": "ipython3",
   "version": "3.7.12"
  },
  "papermill": {
   "default_parameters": {},
   "duration": 63.142496,
   "end_time": "2022-12-05T13:17:59.994475",
   "environment_variables": {},
   "exception": null,
   "input_path": "__notebook__.ipynb",
   "output_path": "__notebook__.ipynb",
   "parameters": {},
   "start_time": "2022-12-05T13:16:56.851979",
   "version": "2.3.4"
  }
 },
 "nbformat": 4,
 "nbformat_minor": 5
}
